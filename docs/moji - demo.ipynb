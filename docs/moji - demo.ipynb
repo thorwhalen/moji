{
 "cells": [
  {
   "cell_type": "markdown",
   "metadata": {
    "toc": true
   },
   "source": [
    "<h1>Table of Contents<span class=\"tocSkip\"></span></h1>\n",
    "<div class=\"toc\"><ul class=\"toc-item\"><li><span><a href=\"#Scrap\" data-toc-modified-id=\"Scrap-1\"><span class=\"toc-item-num\">1&nbsp;&nbsp;</span>Scrap</a></span><ul class=\"toc-item\"><li><span><a href=\"#Emoji-data\" data-toc-modified-id=\"Emoji-data-1.1\"><span class=\"toc-item-num\">1.1&nbsp;&nbsp;</span>Emoji data</a></span></li><li><span><a href=\"#Word2vec\" data-toc-modified-id=\"Word2vec-1.2\"><span class=\"toc-item-num\">1.2&nbsp;&nbsp;</span>Word2vec</a></span></li></ul></li></ul></div>"
   ]
  },
  {
   "cell_type": "code",
   "execution_count": null,
   "metadata": {},
   "outputs": [],
   "source": [
    "\n",
    "# frequently used builtins\n",
    "import os\n",
    "from collections import Counter, defaultdict\n",
    "\n",
    "# frequently used data pkgs\n",
    "import numpy as np\n",
    "import pandas as pd\n",
    "\t\t\t\n",
    "# careful import of matplotlib\n",
    "try:\n",
    "\timport matplotlib.pyplot as plt\n",
    "except ModuleNotFoundError as e:  # to catch ModuleNotFoundError: No module named '_tkinter'\n",
    "\timport matplotlib\n",
    "\tmatplotlib.use('agg')\n",
    "\timport matplotlib.pyplot as plt\n",
    "\n",
    "# some magic stuff\n",
    "%reload_ext autoreload\n",
    "%autoreload 2\n",
    "\n",
    "%matplotlib inline\n",
    "%config InlineBackend.figure_format='retina'\n",
    "\n",
    "\n"
   ]
  },
  {
   "cell_type": "code",
   "execution_count": 1,
   "metadata": {
    "ExecuteTime": {
     "end_time": "2021-07-25T10:48:27.482601Z",
     "start_time": "2021-07-25T10:48:25.730010Z"
    }
   },
   "outputs": [],
   "source": [
    "from functools import lru_cache\n",
    "\n",
    "from idiom import WordVec, WordVecSearch, WordVecStore\n",
    "\n",
    "@lru_cache(maxsize=1)\n",
    "def get_word_vec(*args):\n",
    "    return WordVec(*args)"
   ]
  },
  {
   "cell_type": "code",
   "execution_count": null,
   "metadata": {},
   "outputs": [],
   "source": []
  },
  {
   "cell_type": "code",
   "execution_count": null,
   "metadata": {},
   "outputs": [],
   "source": []
  },
  {
   "cell_type": "code",
   "execution_count": null,
   "metadata": {},
   "outputs": [],
   "source": []
  },
  {
   "cell_type": "markdown",
   "metadata": {},
   "source": [
    "# Scrap"
   ]
  },
  {
   "cell_type": "markdown",
   "metadata": {},
   "source": [
    "Below is just some pieces of code written while developing the package.\n",
    "\n",
    "I might not work, or be the in the right order, or anything. It's scrap. \n",
    "\n",
    "I'm sharing it only for those readers (like myself) that like to have a trace of the process that lead to the result."
   ]
  },
  {
   "cell_type": "markdown",
   "metadata": {},
   "source": [
    "## Emoji data"
   ]
  },
  {
   "cell_type": "code",
   "execution_count": 2,
   "metadata": {
    "ExecuteTime": {
     "end_time": "2021-07-25T10:48:28.364733Z",
     "start_time": "2021-07-25T10:48:28.325572Z"
    }
   },
   "outputs": [],
   "source": [
    "import re\n",
    "from collections import defaultdict\n",
    "\n",
    "from moji.util import data_dir\n",
    "from idiom import WordVec, WordVecSearch"
   ]
  },
  {
   "cell_type": "code",
   "execution_count": 3,
   "metadata": {
    "ExecuteTime": {
     "end_time": "2021-07-25T10:48:28.846965Z",
     "start_time": "2021-07-25T10:48:28.808351Z"
    }
   },
   "outputs": [
    {
     "data": {
      "text/plain": [
       "[PosixPath('/Users/Thor.Whalen/Dropbox/dev/p3/proj/t/moji/moji/data/emoji_joined.tsv'),\n",
       " PosixPath('/Users/Thor.Whalen/Dropbox/dev/p3/proj/t/moji/moji/data/emoji2vec.tsv')]"
      ]
     },
     "execution_count": 3,
     "metadata": {},
     "output_type": "execute_result"
    }
   ],
   "source": [
    "list(data_dir.iterdir())"
   ]
  },
  {
   "cell_type": "code",
   "execution_count": 12,
   "metadata": {
    "ExecuteTime": {
     "end_time": "2021-07-25T10:53:18.406658Z",
     "start_time": "2021-07-25T10:53:18.306227Z"
    }
   },
   "outputs": [],
   "source": [
    "f = (data_dir / 'emoji_joined.tsv')\n",
    "\n",
    "tokenizer = re.compile('\\w+').findall\n",
    "\n",
    "words_of_emo = defaultdict(list)\n",
    "terms_of_emo = defaultdict(list)\n",
    "emo_of_description = dict(np.genfromtxt(str(f), delimiter='\\t', dtype=str, skip_header=1))\n",
    "for description, emo in emo_of_description.items():\n",
    "    words_of_emo[emo].extend(tokenizer(description))\n",
    "    terms_of_emo[emo].append(tokenizer(description))"
   ]
  },
  {
   "cell_type": "code",
   "execution_count": 5,
   "metadata": {
    "ExecuteTime": {
     "end_time": "2021-07-25T10:48:51.028814Z",
     "start_time": "2021-07-25T10:48:29.543138Z"
    }
   },
   "outputs": [
    {
     "name": "stderr",
     "output_type": "stream",
     "text": [
      "/Users/Thor.Whalen/Dropbox/dev/p3/proj/t/idiom/idiom/__init__.py:209: VisibleDeprecationWarning: Creating an ndarray from ragged nested sequences (which is a list-or-tuple of lists-or-tuples-or ndarrays with different lengths or shapes) is deprecated. If you meant to do this, you must specify 'dtype=object' when creating the ndarray\n",
      "  return np.array([self.vec_of_word.get(w, None) for w in words])\n"
     ]
    }
   ],
   "source": [
    "wv = get_word_vec()\n",
    "vec_of_emo = {emo: wv.mean_vec(words) for emo, words in words_of_emo.items()}"
   ]
  },
  {
   "cell_type": "code",
   "execution_count": 15,
   "metadata": {
    "ExecuteTime": {
     "end_time": "2021-07-25T10:54:40.425552Z",
     "start_time": "2021-07-25T10:54:40.386006Z"
    }
   },
   "outputs": [
    {
     "data": {
      "text/plain": [
       "[['full', 'moon', 'with', 'face'],\n",
       " ['smiling', 'moon'],\n",
       " ['moonface'],\n",
       " ['monsters'],\n",
       " ['smiley', 'moon']]"
      ]
     },
     "execution_count": 15,
     "metadata": {},
     "output_type": "execute_result"
    }
   ],
   "source": [
    "terms"
   ]
  },
  {
   "cell_type": "code",
   "execution_count": 19,
   "metadata": {
    "ExecuteTime": {
     "end_time": "2021-07-25T10:55:41.112578Z",
     "start_time": "2021-07-25T10:55:40.948073Z"
    }
   },
   "outputs": [
    {
     "name": "stderr",
     "output_type": "stream",
     "text": [
      "/Users/Thor.Whalen/Dropbox/dev/p3/proj/t/idiom/idiom/__init__.py:209: VisibleDeprecationWarning: Creating an ndarray from ragged nested sequences (which is a list-or-tuple of lists-or-tuples-or ndarrays with different lengths or shapes) is deprecated. If you meant to do this, you must specify 'dtype=object' when creating the ndarray\n",
      "  return np.array([self.vec_of_word.get(w, None) for w in words])\n"
     ]
    }
   ],
   "source": [
    "wv = get_word_vec()\n",
    "vecs_of_emo = defaultdict(list)\n",
    "for emo, terms in terms_of_emo.items():\n",
    "    for term in terms:\n",
    "        vec = wv.mean_vec(term)\n",
    "        if vec is not None:\n",
    "            vecs_of_emo[emo].append(vec)"
   ]
  },
  {
   "cell_type": "code",
   "execution_count": 36,
   "metadata": {
    "ExecuteTime": {
     "end_time": "2021-07-25T15:59:33.190736Z",
     "start_time": "2021-07-25T15:59:33.063766Z"
    }
   },
   "outputs": [],
   "source": [
    "emo_vec_search = WordVecSearch(word_vec=WordVec()).fit(vec_of_emo)"
   ]
  },
  {
   "cell_type": "code",
   "execution_count": 37,
   "metadata": {
    "ExecuteTime": {
     "end_time": "2021-07-25T15:59:42.151495Z",
     "start_time": "2021-07-25T15:59:42.107463Z"
    }
   },
   "outputs": [
    {
     "data": {
      "text/plain": [
       "array([['🍊', '🐜', '🔣', '👨🏻', '🔄', '🇿🇦', '🤒', '🔱', '👸', '🎿']], dtype='<U8')"
      ]
     },
     "execution_count": 37,
     "metadata": {},
     "output_type": "execute_result"
    }
   ],
   "source": [
    "emo_vec_search('boy')"
   ]
  },
  {
   "cell_type": "code",
   "execution_count": 41,
   "metadata": {
    "ExecuteTime": {
     "end_time": "2021-07-25T16:00:12.589371Z",
     "start_time": "2021-07-25T16:00:12.545334Z"
    }
   },
   "outputs": [
    {
     "data": {
      "text/plain": [
       "array([['🐜', '🎿', '👨🏻', '🔄', '🍊', '👼🏻', '👮🏼', '🤒', '📲', '🔱']], dtype='<U8')"
      ]
     },
     "execution_count": 41,
     "metadata": {},
     "output_type": "execute_result"
    }
   ],
   "source": [
    "emo_vec_search('eat')"
   ]
  },
  {
   "cell_type": "code",
   "execution_count": 42,
   "metadata": {
    "ExecuteTime": {
     "end_time": "2021-07-25T16:00:20.282767Z",
     "start_time": "2021-07-25T16:00:20.238745Z"
    }
   },
   "outputs": [
    {
     "data": {
      "text/plain": [
       "array([['🐜', '🎿', '👨🏻', '🔄', '🍊', '👼🏻', '👮🏼', '🤒', '📲', '🔱']], dtype='<U8')"
      ]
     },
     "execution_count": 42,
     "metadata": {},
     "output_type": "execute_result"
    }
   ],
   "source": [
    "emo_vec_search('eat pizza')"
   ]
  },
  {
   "cell_type": "code",
   "execution_count": 43,
   "metadata": {
    "ExecuteTime": {
     "end_time": "2021-07-25T16:00:40.869394Z",
     "start_time": "2021-07-25T16:00:40.824943Z"
    }
   },
   "outputs": [
    {
     "data": {
      "text/plain": [
       "array([['🐜', '🎿', '👨🏻', '🔄', '🍊', '👼🏻', '👮🏼', '🤒', '📲', '🔱']], dtype='<U8')"
      ]
     },
     "execution_count": 43,
     "metadata": {},
     "output_type": "execute_result"
    }
   ],
   "source": [
    "emo_vec_search('smile')"
   ]
  },
  {
   "cell_type": "code",
   "execution_count": 25,
   "metadata": {
    "ExecuteTime": {
     "end_time": "2021-07-25T15:54:22.234247Z",
     "start_time": "2021-07-25T15:54:22.193857Z"
    }
   },
   "outputs": [
    {
     "data": {
      "text/plain": [
       "2"
      ]
     },
     "execution_count": 25,
     "metadata": {},
     "output_type": "execute_result"
    }
   ],
   "source": [
    "np.array([1,2,3]).reshape(1, -1)\n",
    "np.array([[1,2,3], [4,5,6]])\n",
    "np.ndim(np.array([1,2,3]).reshape(1, -1))"
   ]
  },
  {
   "cell_type": "code",
   "execution_count": 29,
   "metadata": {
    "ExecuteTime": {
     "end_time": "2021-07-25T15:56:23.084424Z",
     "start_time": "2021-07-25T15:56:23.044493Z"
    }
   },
   "outputs": [
    {
     "data": {
      "text/plain": [
       "1607"
      ]
     },
     "execution_count": 29,
     "metadata": {},
     "output_type": "execute_result"
    }
   ],
   "source": [
    "len(emo_vec_search.word_vec.vec_of_word)"
   ]
  },
  {
   "cell_type": "code",
   "execution_count": 6,
   "metadata": {
    "ExecuteTime": {
     "end_time": "2021-07-25T10:48:51.067239Z",
     "start_time": "2021-07-25T10:48:51.030859Z"
    }
   },
   "outputs": [],
   "source": [
    "# emo_wordvecs = WordVec(vec_of_emo)"
   ]
  },
  {
   "cell_type": "code",
   "execution_count": 7,
   "metadata": {
    "ExecuteTime": {
     "end_time": "2021-07-25T10:48:51.117972Z",
     "start_time": "2021-07-25T10:48:51.070860Z"
    }
   },
   "outputs": [],
   "source": [
    "emo_vec_search = WordVecSearch(word_vec=WordVec(vec_of_emo)).fit()"
   ]
  },
  {
   "cell_type": "code",
   "execution_count": 11,
   "metadata": {
    "ExecuteTime": {
     "end_time": "2021-07-25T10:51:30.273906Z",
     "start_time": "2021-07-25T10:51:30.230564Z"
    }
   },
   "outputs": [
    {
     "data": {
      "text/plain": [
       "array([ 0.0056    , -0.00203333,  0.0061    ,  0.01976667, -0.02926667,\n",
       "       -0.0146    ,  0.08246667, -0.0734    ,  0.00716667,  0.0198    ,\n",
       "        0.02363333, -0.003     , -0.00436667,  0.0242    ,  0.02476667,\n",
       "       -0.01446667,  0.0578    , -0.00083333,  0.03806667,  0.03516667,\n",
       "       -0.00706667,  0.05533333, -0.0132    ,  0.0285    ,  0.00903333,\n",
       "        0.01653333,  0.0129    ,  0.0142    ,  0.03093333,  0.02386667,\n",
       "       -0.01053333,  0.00773333,  0.0558    , -0.00386667,  0.01106667,\n",
       "       -0.02256667,  0.02846667, -0.00703333, -0.0074    , -0.01543333,\n",
       "        0.00016667, -0.0671    , -0.00286667, -0.075     ,  0.0045    ,\n",
       "        0.0108    , -0.02906667, -0.05123333, -0.00386667,  0.01713333,\n",
       "        0.00963333,  0.02963333,  0.0315    , -0.05596667,  0.00076667,\n",
       "       -0.02473333,  0.0146    ,  0.03053333, -0.0335    , -0.02543333,\n",
       "       -0.01323333, -0.04266667,  0.0918    , -0.02243333, -0.0281    ,\n",
       "       -0.00376667,  0.0163    ,  0.0067    ,  0.00753333,  0.04283333,\n",
       "       -0.0085    ,  0.0168    ,  0.04793333, -0.03436667,  0.0222    ,\n",
       "       -0.01883333, -0.04113333, -0.0263    , -0.01513333, -0.01893333,\n",
       "        0.0016    , -0.0138    , -0.03806667,  0.05806667,  0.01023333,\n",
       "       -0.0397    ,  0.00363333,  0.02916667,  0.01933333, -0.01766667,\n",
       "       -0.02713333,  0.02603333, -0.0672    , -0.02363333,  0.01833333,\n",
       "        0.07343333, -0.0038    , -0.0251    ,  0.04376667, -0.05086667,\n",
       "        0.0282    ,  0.03036667,  0.02713333,  0.00376667,  0.01176667,\n",
       "       -0.1082    , -0.00603333, -0.01583333,  0.05533333,  0.04386667,\n",
       "       -0.0682    ,  0.0585    ,  0.02966667,  0.0074    ,  0.05686667,\n",
       "        0.0089    , -0.04026667,  0.01176667, -0.03716667,  0.0048    ,\n",
       "       -0.03076667,  0.01416667, -0.04106667, -0.04066667,  0.06746667,\n",
       "       -0.01353333,  0.0017    , -0.05936667,  0.04943333,  0.03506667,\n",
       "       -0.02876667, -0.00146667, -0.00826667,  0.01093333,  0.01726667,\n",
       "       -0.0181    , -0.0291    ,  0.05783333,  0.012     ,  0.01893333,\n",
       "       -0.0103    ,  0.01043333,  0.041     , -0.00813333, -0.0267    ,\n",
       "        0.00706667,  0.0127    ,  0.03446667,  0.01163333, -0.0954    ,\n",
       "        0.00423333,  0.07303333,  0.0018    , -0.03273333,  0.00063333,\n",
       "       -0.01516667,  0.0057    , -0.01016667, -0.01866667, -0.0299    ,\n",
       "        0.00073333, -0.01023333, -0.0281    , -0.0368    ,  0.0416    ,\n",
       "       -0.022     ,  0.00833333, -0.0005    , -0.04013333, -0.00526667,\n",
       "        0.0191    , -0.0253    , -0.08333333,  0.0069    ,  0.00883333,\n",
       "        0.03726667, -0.01563333, -0.0059    , -0.00163333,  0.0026    ,\n",
       "        0.0181    ,  0.0336    , -0.04463333, -0.0329    , -0.04583333,\n",
       "       -0.02726667,  0.03973333,  0.04496667, -0.0386    , -0.00436667,\n",
       "        0.01826667,  0.0223    , -0.01473333,  0.02906667, -0.01893333,\n",
       "       -0.02346667, -0.0066    ,  0.01243333,  0.0081    ,  0.0308    ,\n",
       "       -0.10626667,  0.0254    , -0.01716667,  0.0278    , -0.0087    ,\n",
       "       -0.0006    ,  0.01886667, -0.02386667,  0.02686667, -0.0107    ,\n",
       "        0.09243333, -0.02476667, -0.03243333,  0.0083    , -0.01183333,\n",
       "       -0.0027    ,  0.0261    ,  0.0513    ,  0.05083333,  0.04776667,\n",
       "       -0.0264    , -0.015     , -0.0039    ,  0.07196667, -0.0253    ,\n",
       "       -0.02953333,  0.04776667,  0.0495    , -0.0255    , -0.02023333,\n",
       "        0.0048    , -0.03326667, -0.03426667,  0.02543333,  0.0444    ,\n",
       "       -0.0463    ,  0.03453333, -0.01013333, -0.01223333, -0.00763333,\n",
       "        0.06206667,  0.02483333, -0.01603333,  0.014     , -0.06766667,\n",
       "        0.02076667,  0.0272    ,  0.01136667, -0.0113    , -0.0052    ,\n",
       "        0.0046    , -0.0379    ,  0.00376667,  0.00013333,  0.02926667,\n",
       "        0.0031    , -0.0095    ,  0.0066    ,  0.04686667, -0.0432    ,\n",
       "       -0.0125    ,  0.01296667, -0.01236667, -0.0233    ,  0.00316667,\n",
       "       -0.01416667, -0.02436667,  0.01536667, -0.02246667, -0.0009    ,\n",
       "       -0.04973333,  0.06556667, -0.06143333, -0.0294    ,  0.01176667,\n",
       "       -0.05126667, -0.00113333, -0.0308    , -0.02366667, -0.0132    ,\n",
       "        0.05293333,  0.04313333, -0.01913333, -0.00706667, -0.0337    ,\n",
       "        0.05723333,  0.01146667, -0.01086667,  0.02993333,  0.02166667,\n",
       "       -0.00533333, -0.00996667, -0.0212    , -0.0566    , -0.0226    ,\n",
       "       -0.0143    , -0.01576667,  0.01513333,  0.02356667,  0.04423333])"
      ]
     },
     "execution_count": 11,
     "metadata": {},
     "output_type": "execute_result"
    }
   ],
   "source": [
    "vec_of_emo['🐜']"
   ]
  },
  {
   "cell_type": "code",
   "execution_count": 10,
   "metadata": {
    "ExecuteTime": {
     "end_time": "2021-07-25T10:51:13.294630Z",
     "start_time": "2021-07-25T10:51:13.250433Z"
    }
   },
   "outputs": [
    {
     "data": {
      "text/plain": [
       "array([['🐜', '🎿', '👨🏻', '🔄', '🍊', '👼🏻', '👮🏼', '🤒', '📲', '🔱']], dtype='<U8')"
      ]
     },
     "execution_count": 10,
     "metadata": {},
     "output_type": "execute_result"
    }
   ],
   "source": [
    "emo_vec_search('poo')"
   ]
  },
  {
   "cell_type": "code",
   "execution_count": 23,
   "metadata": {
    "ExecuteTime": {
     "end_time": "2021-07-25T10:47:05.922793Z",
     "start_time": "2021-07-25T10:47:05.883283Z"
    }
   },
   "outputs": [
    {
     "data": {
      "text/plain": [
       "['face', 'with', 'thermometer', 'ill']"
      ]
     },
     "execution_count": 23,
     "metadata": {},
     "output_type": "execute_result"
    }
   ],
   "source": [
    "words_of_emo['🤒']"
   ]
  },
  {
   "cell_type": "code",
   "execution_count": 12,
   "metadata": {
    "ExecuteTime": {
     "end_time": "2021-07-25T10:41:26.573488Z",
     "start_time": "2021-07-25T10:41:26.529975Z"
    }
   },
   "outputs": [
    {
     "data": {
      "text/plain": [
       "array([-5.13333333e-03, -1.95555556e-03,  1.78888889e-02, -1.16666667e-03,\n",
       "       -5.97777778e-03, -2.85111111e-02,  1.90333333e-02, -5.79111111e-02,\n",
       "        1.10222222e-02,  6.75555556e-03,  1.12222222e-02, -6.01111111e-03,\n",
       "        1.06666667e-03,  1.75222222e-02, -1.67888889e-02, -2.51333333e-02,\n",
       "        1.87777778e-02, -1.63000000e-02,  2.72555556e-02, -1.46666667e-03,\n",
       "       -4.33333333e-03,  3.31111111e-03, -2.35555556e-02,  2.98333333e-02,\n",
       "        2.92222222e-03, -1.05555556e-03,  3.00000000e-03,  4.13333333e-03,\n",
       "        3.88888889e-03, -7.55555556e-04, -2.31777778e-02,  9.02222222e-03,\n",
       "        1.39333333e-02, -7.11111111e-04, -1.00000000e-02, -7.81111111e-03,\n",
       "       -5.16666667e-03, -3.14666667e-02,  8.53333333e-03, -3.44444444e-03,\n",
       "       -8.78888889e-03, -4.02666667e-02, -1.55555556e-04, -1.30111111e-02,\n",
       "        1.77666667e-02,  2.06111111e-02,  2.23333333e-03, -7.95555556e-03,\n",
       "       -1.16666667e-03,  1.18000000e-02,  1.27666667e-02,  3.40000000e-03,\n",
       "       -8.16666667e-03, -3.58888889e-03, -3.78444444e-02,  9.58888889e-03,\n",
       "        1.36666667e-02, -1.47888889e-02, -3.27888889e-02, -2.48111111e-02,\n",
       "       -2.83333333e-03,  2.14888889e-02,  6.12222222e-02, -2.48666667e-02,\n",
       "       -4.55555556e-04, -1.00777778e-02,  1.73333333e-02, -1.21777778e-02,\n",
       "       -9.88888889e-04, -1.88888889e-04,  1.37777778e-03, -1.78888889e-03,\n",
       "        3.38888889e-02,  1.10444444e-02, -2.10333333e-02,  9.56666667e-03,\n",
       "        1.87222222e-02, -2.42777778e-02, -2.88888889e-02, -1.09111111e-02,\n",
       "        8.15555556e-03, -2.40555556e-02,  8.08888889e-03,  3.02444444e-02,\n",
       "        1.74222222e-02,  4.70000000e-03, -1.26777778e-02, -1.20111111e-02,\n",
       "        5.41111111e-03, -2.14777778e-02, -2.34444444e-03, -4.43333333e-03,\n",
       "       -5.59111111e-02, -6.33333333e-03,  4.80222222e-02,  3.40000000e-02,\n",
       "        4.25555556e-03,  9.87777778e-03,  1.23333333e-03,  6.44444444e-04,\n",
       "       -8.82222222e-03, -3.98888889e-03,  2.33222222e-02, -5.18888889e-03,\n",
       "        2.91111111e-03, -6.28777778e-02, -1.47666667e-02,  1.83333333e-02,\n",
       "        4.83333333e-03, -5.40000000e-03, -9.02222222e-03,  3.24111111e-02,\n",
       "        2.89111111e-02, -8.64444444e-03,  3.62222222e-03, -1.57555556e-02,\n",
       "       -2.52666667e-02, -1.11000000e-02, -2.96222222e-02, -1.08444444e-02,\n",
       "       -1.75444444e-02,  1.32333333e-02, -4.36111111e-02, -1.24888889e-02,\n",
       "        1.85111111e-02,  1.64222222e-02,  7.81111111e-03, -5.62333333e-02,\n",
       "       -2.33333333e-04,  2.90444444e-02, -2.26444444e-02, -6.98888889e-03,\n",
       "       -2.37666667e-02,  4.56666667e-03, -1.31555556e-02, -1.67000000e-02,\n",
       "       -9.33333333e-04,  3.72333333e-02, -1.66666667e-04,  1.10222222e-02,\n",
       "       -4.54444444e-03, -1.01555556e-02, -6.20000000e-03, -7.23333333e-03,\n",
       "        1.49888889e-02,  2.10444444e-02,  4.13333333e-03, -1.11111111e-05,\n",
       "       -1.18777778e-02, -4.67777778e-03, -1.51777778e-02,  2.21777778e-02,\n",
       "        1.45777778e-02, -1.24777778e-02,  6.37777778e-03, -2.95555556e-03,\n",
       "        3.75555556e-03, -1.88777778e-02, -9.03333333e-03, -1.31666667e-02,\n",
       "        1.13111111e-02,  1.19333333e-02, -1.84333333e-02,  5.26666667e-03,\n",
       "       -1.82555556e-02, -6.75555556e-03,  6.44444444e-04, -1.14555556e-02,\n",
       "        1.41555556e-02,  3.20888889e-02, -2.78666667e-02, -2.42111111e-02,\n",
       "       -2.11666667e-02, -3.92222222e-03,  1.88000000e-02,  2.84666667e-02,\n",
       "        1.89333333e-02,  7.06666667e-03, -2.81111111e-03, -2.03333333e-03,\n",
       "        1.66222222e-02,  1.11222222e-02, -1.55666667e-02, -2.03333333e-02,\n",
       "       -9.83333333e-03, -1.54000000e-02,  1.16555556e-02,  6.16333333e-02,\n",
       "        9.91111111e-03,  5.55555556e-05,  1.14555556e-02,  1.47555556e-02,\n",
       "       -2.06888889e-02, -2.46111111e-02,  4.38888889e-03, -5.67777778e-03,\n",
       "       -2.57444444e-02,  8.20000000e-03, -5.23333333e-03,  5.55555556e-03,\n",
       "       -8.15444444e-02,  4.30444444e-02,  1.09111111e-02, -1.25777778e-02,\n",
       "        7.55555556e-03,  1.38666667e-02,  2.20000000e-03,  1.40333333e-02,\n",
       "        6.71111111e-03, -3.36333333e-02,  6.34555556e-02, -8.88888889e-03,\n",
       "        1.22666667e-02,  5.25555556e-03,  9.66666667e-03, -2.64000000e-02,\n",
       "       -2.62444444e-02,  1.93777778e-02,  1.87222222e-02, -3.72666667e-02,\n",
       "       -1.06666667e-03,  1.83555556e-02, -1.98888889e-02,  5.41222222e-02,\n",
       "        1.86777778e-02,  1.07000000e-02,  1.94333333e-02,  4.07444444e-02,\n",
       "        1.00666667e-02, -2.01111111e-02, -4.00000000e-03, -3.28111111e-02,\n",
       "       -2.83777778e-02, -3.62222222e-03,  2.12222222e-02, -1.84222222e-02,\n",
       "       -3.67777778e-03, -7.80000000e-03, -9.88888889e-03, -2.15666667e-02,\n",
       "        4.92888889e-02,  3.45555556e-03, -2.99888889e-02, -8.44444444e-03,\n",
       "       -3.68555556e-02,  1.02666667e-02, -1.25111111e-02,  1.25333333e-02,\n",
       "       -7.23333333e-03, -2.47111111e-02,  3.51555556e-02, -1.48333333e-02,\n",
       "        2.45555556e-03, -6.15555556e-03,  8.06666667e-03,  1.38555556e-02,\n",
       "       -2.30333333e-02,  7.71111111e-03,  9.20000000e-03,  4.28888889e-03,\n",
       "       -1.12666667e-02,  6.73333333e-03,  1.85555556e-03, -2.14888889e-02,\n",
       "        9.05555556e-03, -8.66666667e-04,  1.66555556e-02,  1.23333333e-03,\n",
       "        4.75555556e-03,  1.26666667e-02, -4.44444444e-04,  5.77111111e-02,\n",
       "       -6.47222222e-02, -2.23000000e-02,  3.56555556e-02, -3.35111111e-02,\n",
       "       -1.11111111e-02, -2.88888889e-03,  1.44444444e-02, -1.22555556e-02,\n",
       "        2.67777778e-02,  2.16666667e-03,  2.26666667e-02, -6.03333333e-03,\n",
       "       -9.52222222e-03, -2.71111111e-03, -2.77222222e-02,  1.33333333e-04,\n",
       "       -1.00888889e-02, -3.44444444e-03,  2.71111111e-03, -1.00222222e-02,\n",
       "       -2.25000000e-02, -3.11000000e-02, -3.27777778e-03,  8.01111111e-03,\n",
       "        1.25111111e-02,  3.47444444e-02,  1.28666667e-02,  3.60000000e-03])"
      ]
     },
     "execution_count": 12,
     "metadata": {},
     "output_type": "execute_result"
    }
   ],
   "source": [
    "vec_of_emo['🌝']"
   ]
  },
  {
   "cell_type": "code",
   "execution_count": null,
   "metadata": {},
   "outputs": [],
   "source": []
  },
  {
   "cell_type": "code",
   "execution_count": 46,
   "metadata": {
    "ExecuteTime": {
     "end_time": "2021-07-25T10:22:39.529249Z",
     "start_time": "2021-07-25T10:22:39.486144Z"
    }
   },
   "outputs": [],
   "source": [
    "from csv import DictReader, Dialect, reader\n",
    "\n",
    "emoji_data = (data_dir / 'emoji_joined.tsv')\n",
    "\n",
    "with open(f) as csvfile:\n",
    "    reader = reader(csvfile, dialect='excel-tab')\n",
    "    t = dict(reader)"
   ]
  },
  {
   "cell_type": "code",
   "execution_count": 47,
   "metadata": {
    "ExecuteTime": {
     "end_time": "2021-07-25T10:22:46.990501Z",
     "start_time": "2021-07-25T10:22:46.952094Z"
    }
   },
   "outputs": [
    {
     "data": {
      "text/plain": [
       "'☑️'"
      ]
     },
     "execution_count": 47,
     "metadata": {},
     "output_type": "execute_result"
    }
   ],
   "source": [
    "t['ballot box with check']"
   ]
  },
  {
   "cell_type": "code",
   "execution_count": 49,
   "metadata": {
    "ExecuteTime": {
     "end_time": "2021-07-25T10:23:18.019620Z",
     "start_time": "2021-07-25T10:23:17.975834Z"
    }
   },
   "outputs": [
    {
     "data": {
      "text/plain": [
       "'🐣'"
      ]
     },
     "execution_count": 49,
     "metadata": {},
     "output_type": "execute_result"
    }
   ],
   "source": [
    "t['baby chicken']"
   ]
  },
  {
   "cell_type": "code",
   "execution_count": 58,
   "metadata": {
    "ExecuteTime": {
     "end_time": "2021-07-25T10:25:26.037227Z",
     "start_time": "2021-07-25T10:25:25.992663Z"
    }
   },
   "outputs": [
    {
     "data": {
      "text/plain": [
       "1     2166\n",
       "2     1114\n",
       "3      576\n",
       "4      232\n",
       "5      327\n",
       "6       48\n",
       "7       38\n",
       "8        5\n",
       "9        5\n",
       "10       4\n",
       "11       4\n",
       "12       1\n",
       "dtype: int64"
      ]
     },
     "execution_count": 58,
     "metadata": {},
     "output_type": "execute_result"
    }
   ],
   "source": [
    "pd.Series(Counter(map(lambda x: len(x.split(' ')), t))).sort_index()"
   ]
  },
  {
   "cell_type": "code",
   "execution_count": 61,
   "metadata": {
    "ExecuteTime": {
     "end_time": "2021-07-25T10:26:35.952719Z",
     "start_time": "2021-07-25T10:26:35.914645Z"
    }
   },
   "outputs": [],
   "source": [
    "# wv.mean_vec('ballot box with check'.split(' '))"
   ]
  },
  {
   "cell_type": "code",
   "execution_count": 63,
   "metadata": {
    "ExecuteTime": {
     "end_time": "2021-07-25T10:28:17.724478Z",
     "start_time": "2021-07-25T10:28:17.615582Z"
    }
   },
   "outputs": [
    {
     "data": {
      "text/plain": [
       "{'full moon with face': '🌝',\n",
       " 'cheese': '🧀',\n",
       " 'moon': '🌙',\n",
       " 'smiling moon': '🌝',\n",
       " 'phase': '🌙',\n",
       " 'full': '🌕',\n",
       " 'sky': '🌙',\n",
       " 'moonface': '🌝',\n",
       " 'night': '🌙',\n",
       " 'werewolves': '🌕',\n",
       " 'monsters': '🌝',\n",
       " 'anthropomorphic': '🌚',\n",
       " 'face': '🌚',\n",
       " 'smiley moon': '🌝',\n",
       " 'spooky': '🌕',\n",
       " 'flag for belarus': '🇧🇾',\n",
       " 'regional indicator symbol letters by': '🇧🇾',\n",
       " 'belarusian flag': '🇧🇾',\n",
       " 'vain': '🐩',\n",
       " 'miniature poodle': '🐩',\n",
       " 'dog': '🐕',\n",
       " 'sophisticated': '🐩',\n",
       " 'showy': '🐩',\n",
       " 'clip': '🐩',\n",
       " 'toy poodle': '🐩',\n",
       " 'standard poodle': '🐩',\n",
       " 'poodle': '🐩',\n",
       " 'black scissors': '✂️',\n",
       " 'cutting': '✂️',\n",
       " 'double vertical bar': '⏸',\n",
       " 'light brown bicyclist': '🚴🏼',\n",
       " 'greek': '♒',\n",
       " 'stars': '♒',\n",
       " 'scorpius': '♏',\n",
       " 'sign': '👍',\n",
       " 'astrology': '♒',\n",
       " 'scorpio': '♏',\n",
       " 'scorpion': '♏',\n",
       " 'constellation': '♒',\n",
       " 'zodiac': '♒',\n",
       " 'cruise': '🚢',\n",
       " 'cruise ship': '🚢',\n",
       " 'boat': '🚤',\n",
       " 'ferry': '⛴',\n",
       " 'ship': '⚓️',\n",
       " 'husk': '🌽',\n",
       " 'kernel': '🌽',\n",
       " 'popcorn': '🍿',\n",
       " 'stalk': '🌽',\n",
       " 'cob': '🌽',\n",
       " 'iowa': '🌽',\n",
       " 'ear': '👂',\n",
       " 'food': '🌰',\n",
       " 'yellow': '🍋',\n",
       " 'maize': '🌽',\n",
       " 'corn': '🌽',\n",
       " 'ear of maize': '🌽',\n",
       " 'corn on the cob': '🌽',\n",
       " 'steam locomotive': '🚂',\n",
       " 'locomotive': '🚋',\n",
       " 'steam train': '🚂',\n",
       " 'railway locomotive': '🚂',\n",
       " 'steam': '💨',\n",
       " 'train': '🚄',\n",
       " 'engine': '🚒',\n",
       " 'flag for british indian ocean territory': '🇮🇴',\n",
       " 'british indian ocean territory flag': '🇮🇴',\n",
       " 'negative squared latin capital letter o': '🅾️',\n",
       " 'light brown bath': '🛀🏼',\n",
       " 'flag for denmark': '🇩🇰',\n",
       " 'regional indicator symbol letters dk': '🇩🇰',\n",
       " 'taco': '🌮',\n",
       " 'flag for rwanda': '🇷🇼',\n",
       " 'regional indicator symbol letters rw': '🇷🇼',\n",
       " 'officer': '🚔',\n",
       " 'police': '👮',\n",
       " 'cop car': '🚓',\n",
       " 'side of police car': '🚓',\n",
       " 'police car': '🚓',\n",
       " 'car': '🚖',\n",
       " 'ticket': '🎫',\n",
       " 'citation': '🚔',\n",
       " 'help': '🚑',\n",
       " 'crime': '🚔',\n",
       " 'emergency': '🚒',\n",
       " 'chicken drumstick': '🍗',\n",
       " 'poultry': '🐔',\n",
       " 'turkey leg': '🍗',\n",
       " 'chicken': '🐣',\n",
       " 'leg': '🍗',\n",
       " 'fried': '🍤',\n",
       " 'poultry leg': '🍗',\n",
       " 'female': '🚺',\n",
       " 'yellow woman': '👩',\n",
       " 'lady': '🐞',\n",
       " 'woman': '🐣',\n",
       " 'deeper brown police officer': '👮🏾',\n",
       " 'stars heart': '💖',\n",
       " 'sparkly heart': '💖',\n",
       " 'sparkle heart': '💖',\n",
       " 'sparkling heart': '💖',\n",
       " 'rock on': '👍',\n",
       " 'sign of the horns': '🤘',\n",
       " 'devil fingers': '🤘',\n",
       " 'heavy metal': '🤘',\n",
       " 'large blue diamond': '🔷',\n",
       " 'peel': '🍌',\n",
       " 'banana': '🐒',\n",
       " 'plantain': '🍌',\n",
       " 'bunch': '🍌',\n",
       " 'bag': '👝',\n",
       " 'left luggage': '🛅',\n",
       " 'travel': '🛄',\n",
       " 'baggage': '🛄',\n",
       " 'luggage': '🛄',\n",
       " 'heavy minus sign': '➖',\n",
       " 'snowman': '⛄',\n",
       " 'snowing snowman': '☃',\n",
       " 'couple with heart with two women': '👩\\u200d❤️\\u200d👩',\n",
       " '割': '🈹',\n",
       " 'bargain sale': '🈹',\n",
       " 'kissing': '😗',\n",
       " 'kiss face': '😙',\n",
       " 'kissy face': '😗',\n",
       " 'smooch': '😗',\n",
       " 'kissing face with closed eyes': '😚',\n",
       " 'love': '🌹',\n",
       " 'puckered': '😽',\n",
       " 'passion': '❤️',\n",
       " 'heart': '💞',\n",
       " 'kiss': '😗',\n",
       " 'flag for malaysia': '🇲🇾',\n",
       " 'regional indicator symbol letters my': '🇲🇾',\n",
       " 'malaysian flag': '🇲🇾',\n",
       " 'chart with upwards trend': '📈',\n",
       " 'waning': '🌖',\n",
       " 'waning crescent moon symbol': '🌘',\n",
       " 'crescent': '🌙',\n",
       " 'tent': '🎪',\n",
       " 'fencer': '🥡',\n",
       " 'regional indicator symbol letters st': '🇸🇹',\n",
       " 'flag for argentina': '🇦🇷',\n",
       " 'regional indicator symbol letters ar': '🇦🇷',\n",
       " 'flag for french southern territories': '🇹🇫',\n",
       " 'regional indicator symbol letters tf': '🇹🇫',\n",
       " 'french southern lands flag': '🇹🇫',\n",
       " 'black raised hand with part between middle and ring fingers': '🖖🏿',\n",
       " 'lion': '♌️',\n",
       " 'bear': '🐼',\n",
       " 'footsteps': '👣',\n",
       " 'paw prints': '🐾',\n",
       " 'critter': '🐾',\n",
       " 'kitten paw prints': '🐾',\n",
       " 'feet': '🚶',\n",
       " 'animal': '🍖',\n",
       " 'dog paw prints': '🐾',\n",
       " 'puppy paw prints': '🐾',\n",
       " 'raccoon': '🐾',\n",
       " 'imprints': '🐾',\n",
       " 'paw': '🐾',\n",
       " 'mark': '🐾',\n",
       " 'cat': '😺',\n",
       " 'prints': '🐾',\n",
       " 'cat paw prints': '🐾',\n",
       " 'pawsteps': '🐾',\n",
       " 'gridiron': '🏈',\n",
       " 'superbowl': '🏈',\n",
       " 'american football': '🏈',\n",
       " 'sport': '🎯',\n",
       " 'ball': '🎳',\n",
       " 'football': '🏉',\n",
       " 'american': '🏈',\n",
       " 'america': '🌎',\n",
       " 'keycap digit three': '3⃣️',\n",
       " 'olive toned face with no good gesture': '🙅🏽',\n",
       " 'white right pointing backhand index': '👉',\n",
       " 'pointing right': '👉',\n",
       " 'family of two men with one girl and one boy': '👨\\u200d👨\\u200d👧\\u200d👦',\n",
       " 'lying face': '🤥',\n",
       " 'pinocchio': '🤥',\n",
       " 'long nose': '🤥',\n",
       " 'liar': '🤥',\n",
       " 'spiral calendar pad': '🗓',\n",
       " 'clock face eight oclock': '🕗',\n",
       " 'cross eyes face': '😵',\n",
       " 'drunk': '💫',\n",
       " 'inebriated': '😵',\n",
       " 'dizzy face': '😵',\n",
       " 'dizzy': '💫',\n",
       " 'spiral eyes face': '😵',\n",
       " 'mans shoe': '👞',\n",
       " 'shoe': '👞',\n",
       " 'brown shoe': '👞',\n",
       " 'flag for greece': '🇬🇷',\n",
       " 'regional indicator symbol letters gr': '🇬🇷',\n",
       " 'flag for pakistan': '🇵🇰',\n",
       " 'regional indicator symbol letters pk': '🇵🇰',\n",
       " 'pakistani flag': '🇵🇰',\n",
       " 'electric torch': '🔦',\n",
       " 'torch': '🔦',\n",
       " 'flashlight': '🔦',\n",
       " 'control knobs': '🎛',\n",
       " 'white man with turban': '👳🏻',\n",
       " 'fork and knife with plate': '🍽',\n",
       " 'slightly smiling face': '🙂',\n",
       " 'slightly happy': '🙂',\n",
       " 'flag for somalia': '🇸🇴',\n",
       " 'regional indicator symbol letters so': '🇸🇴',\n",
       " 'regional indicator symbol letters us': '🇺🇸',\n",
       " 'flag for united states': '🇺🇸',\n",
       " 'usa flag': '🇺🇸',\n",
       " 'american flag': '🇺🇸',\n",
       " 'light brown person bowing deeply': '🙇🏼',\n",
       " 'flower': '🌹',\n",
       " 'hanafuda': '🎴',\n",
       " 'playing cards': '🎴',\n",
       " 'deck of cards': '🎴',\n",
       " 'hwatu': '🎴',\n",
       " 'august': '🎴',\n",
       " 'playing': '🎴',\n",
       " 'special': '❄️',\n",
       " 'card': '💳',\n",
       " 'game': '🎳',\n",
       " 'flower playing cards': '🎴',\n",
       " 'flag for turkmenistan': '🇹🇲',\n",
       " 'regional indicator symbol letters tm': '🇹🇲',\n",
       " 'snowman without snow': '⛄️',\n",
       " 'frosty the snowman': '⛄',\n",
       " 'olaf': '⛄',\n",
       " 'black thumbs up sign': '👍🏿',\n",
       " 'leftwards arrow with hook': '↩️',\n",
       " 'mono': '🚝',\n",
       " 'transport': '🚎',\n",
       " 'monorail': '🚝',\n",
       " 'rail': '🚄',\n",
       " 'sakura': '🌸',\n",
       " 'blossom': '🌼',\n",
       " 'cherry': '🍒',\n",
       " 'tree': '🌰',\n",
       " 'pink flower': '🌸',\n",
       " 'cherry blossom': '💮',\n",
       " 'black white up pointing backhand index': '👆🏿',\n",
       " 'deeper brown person with folded hands': '🙏🏾',\n",
       " 'lion face': '🦁',\n",
       " 'cute lion': '🦁',\n",
       " 'timid lion': '🦁',\n",
       " 'olive toned guardsman': '💂🏽',\n",
       " 'litter': '🚮',\n",
       " 'garbage': '🚮',\n",
       " 'can': '🚮',\n",
       " 'waste': '🚮',\n",
       " 'no': '🚫',\n",
       " 'do not litter symbol': '🚯',\n",
       " 'trash': '🚮',\n",
       " 'needle': '💉',\n",
       " 'syringe': '💉',\n",
       " 'vaccination': '💉',\n",
       " 'blood donation': '💉',\n",
       " 'blood test': '💉',\n",
       " 'black raised fist': '✊🏿',\n",
       " 'baseball': '⚾️',\n",
       " 'softball': '⚾',\n",
       " 'light brown ear': '👂🏼',\n",
       " 'family of a man and woman with two girls': '👨\\u200d👩\\u200d👧\\u200d👧',\n",
       " 'light brown boy': '👦🏼',\n",
       " 'copyright sign': '©️',\n",
       " 'snake': '⛎',\n",
       " 'green snake': '🐍',\n",
       " 'black bride with veil': '👰🏿',\n",
       " 'flag for brunei': '🇧🇳',\n",
       " 'regional indicator symbol letters bn': '🇧🇳',\n",
       " 'bruneian flag': '🇧🇳',\n",
       " 'ℹ lowercase i': 'ℹ️',\n",
       " 'ℹ info': 'ℹ️',\n",
       " 'ℹ tourist information': 'ℹ️',\n",
       " 'ℹ help icon': 'ℹ️',\n",
       " 'information source': 'ℹ️',\n",
       " 'light brown older man': '👴🏼',\n",
       " 'wine glass': '🍷',\n",
       " 'fermented': '🍷',\n",
       " 'red wine': '🍷',\n",
       " 'tasting': '🍷',\n",
       " 'wine': '🍶',\n",
       " 'grapes': '🍇',\n",
       " 'alcohol': '🍶',\n",
       " 'glass': '🍸',\n",
       " 'winery': '🍷',\n",
       " 'bottle': '🍶',\n",
       " 'wc': '🚾',\n",
       " 'porcelain': '🚽',\n",
       " 'bathroom': '🚺',\n",
       " 'throne': '🚽',\n",
       " 'water closet': '🚾',\n",
       " 'toilet': '🚻',\n",
       " 'water': '♒',\n",
       " 'toilet wc': '🚾',\n",
       " 'plumbing': '🚽',\n",
       " 'flush': '🚽',\n",
       " 'closet': '🚾',\n",
       " 'star of david': '✡',\n",
       " 'books': '📚',\n",
       " 'pile of books': '📚',\n",
       " 'stack of books': '📚',\n",
       " 'blushing face': '😳',\n",
       " 'cheeks': '😳',\n",
       " 'flushed face': '😳',\n",
       " 'shame': '😳',\n",
       " 'blush': '😳',\n",
       " 'pink': '🐽',\n",
       " 'embarrassed': '😳',\n",
       " 'red': '🍎',\n",
       " 'sneezing face': '🤧',\n",
       " 'black fisted hand sign': '👊🏿',\n",
       " 'black nib': '✒️',\n",
       " 'ram': '🐏',\n",
       " 'aries': '♈',\n",
       " 'seat': '💺',\n",
       " 'bed': '🛏',\n",
       " 'bedroom': '🛏',\n",
       " 'world map': '🗺',\n",
       " 'playing card black joker': '🃏',\n",
       " 'joker': '🃏',\n",
       " 'joker card': '🃏',\n",
       " 'money bag': '💰',\n",
       " 'moneybags': '💰',\n",
       " 'rich': '🍮',\n",
       " 'umbrella with rain drops': '☔',\n",
       " 'black older woman': '👵🏿',\n",
       " 'ice hockey stick and puck': '🏒',\n",
       " 'ice hockey': '🏒',\n",
       " 'flag for iran': '🇮🇷',\n",
       " 'regional indicator symbol letters ir': '🇮🇷',\n",
       " 'flag for monaco': '🇲🇨',\n",
       " 'planet': '🌐',\n",
       " 'world': '🌍',\n",
       " 'home': '🌐',\n",
       " 'north': '🌎',\n",
       " 'globe': '🌐',\n",
       " 'space': '🌐',\n",
       " 'south': '🌎',\n",
       " 'earth globe americas': '🌎',\n",
       " 'americas': '🌎',\n",
       " 'earth': '🌐',\n",
       " 'left fist bump': '🤛',\n",
       " 'camping tent': '⛺',\n",
       " 'light brown waving hand sign': '👋🏼',\n",
       " 'reversed hand with middle finger extended': '🖕',\n",
       " 'flipping the bird': '🖕',\n",
       " 'middle finger': '👆',\n",
       " 'dito medio': '🖕',\n",
       " 'rude finger': '🖕',\n",
       " 'double exclamation mark': '‼️',\n",
       " 'light brown clapping hands sign': '👏🏼',\n",
       " 'cheers': '🥂',\n",
       " 'clinking beer mugs': '🍻',\n",
       " 'jolly': '🎅',\n",
       " 'pub': '🍻',\n",
       " 'beers': '🍻',\n",
       " 'beer': '🍺',\n",
       " 'clink': '🍻',\n",
       " 'mug': '🍺',\n",
       " 'bar': '🍫',\n",
       " 'hops': '🍺',\n",
       " 'celebrate': '🎂',\n",
       " 'toast': '🍻',\n",
       " 'flag for ascension island': '🇦🇨',\n",
       " 'olive toned baby angel': '👼🏽',\n",
       " 'olive toned woman': '👩🏽',\n",
       " 'label': '🏷',\n",
       " 'flag for philippines': '🇵🇭',\n",
       " 'regional indicator symbol letters ph': '🇵🇭',\n",
       " 'television': '📺',\n",
       " 'tv': '📺',\n",
       " 'left triangle': '◀️',\n",
       " 'compete': '🎽',\n",
       " 'running': '🎽',\n",
       " 'running shirt with sash': '🎽',\n",
       " 'run': '🏃',\n",
       " 'sports': '🏂',\n",
       " 'singlet': '🎽',\n",
       " 'cloths': '🎽',\n",
       " 'shirt': '👚',\n",
       " 'running shirt': '🎽',\n",
       " 'family of two men with two boys': '👨\\u200d👨\\u200d👦\\u200d👦',\n",
       " 'dark moon': '🌑',\n",
       " 'solar eclipse': '🌑',\n",
       " 'new': '🌚',\n",
       " 'new moon symbol': '🌑',\n",
       " 'shadow moon': '🌑',\n",
       " 'wheelchair symbol': '♿️',\n",
       " 'accessible bathroom': '♿',\n",
       " 'curry': '🍛',\n",
       " 'spice': '🌿',\n",
       " 'indian food': '🍛',\n",
       " 'flavor': '🍛',\n",
       " 'meal': '🍱',\n",
       " 'curry and rice': '🍛',\n",
       " 'building construction': '🏗',\n",
       " 'keyboard': '🎹',\n",
       " 'flag for czech republic': '🇨🇿',\n",
       " 'regional indicator symbol letters cz': '🇨🇿',\n",
       " 'flag for nicaragua': '🇳🇮',\n",
       " 'regional indicator symbol letters ni': '🇳🇮',\n",
       " 'black rightwards arrow': '➡️',\n",
       " 'playstation': '🎮',\n",
       " 'nintendo': '🎮',\n",
       " 'xbox': '🎮',\n",
       " 'wii u': '🎮',\n",
       " 'video': '🎥',\n",
       " 'console controller': '🎮',\n",
       " 'controller': '🎮',\n",
       " 'video game': '🎮',\n",
       " 'console': '🎮',\n",
       " 'warning sign': '⚠️',\n",
       " 'olive toned ok hand sign': '👌🏽',\n",
       " 'taurus': '♉️',\n",
       " 'bull': '♉️',\n",
       " 'video camera': '📹',\n",
       " 'camcorder': '🎥',\n",
       " 'flag for sint maarten': '🇸🇽',\n",
       " 'regional indicator symbol letters sx': '🇸🇽',\n",
       " 'shinto shrine': '⛩',\n",
       " 'flag for guernsey': '🇬🇬',\n",
       " 'olive toned open hands sign': '👐🏽',\n",
       " 'traffic light': '🚦',\n",
       " 'horizontal': '🚥',\n",
       " 'yield': '🚦',\n",
       " 'horizontal traffic light': '🚥',\n",
       " 'stop': '🚫',\n",
       " 'go': '🚦',\n",
       " 'traffic': '🚦',\n",
       " 'light': '🚨',\n",
       " 'olive toned father christmas': '🎅🏽',\n",
       " '満': '🈵',\n",
       " 'confounded face': '😖',\n",
       " 'quivering mouth': '😖',\n",
       " 'scrunched face': '😖',\n",
       " 'confound': '😖',\n",
       " 'puzzle': '😕',\n",
       " 'perplex': '😕',\n",
       " 'amaze': '😖',\n",
       " 'mystify': '😖',\n",
       " 'black person with blond hair': '👱🏿',\n",
       " 'squared id': '🆔',\n",
       " 'id': '🆔',\n",
       " 'identification': '🛂',\n",
       " 'detective': '🔎',\n",
       " 'spy': '🕵',\n",
       " 'sleuth or spy': '🕵',\n",
       " 'private eye': '🕵',\n",
       " 'sleuth': '🕵',\n",
       " 'baguette bread': '🥖',\n",
       " 'white medium small square': '◽',\n",
       " 'happy tears cat': '😹',\n",
       " 'tears': '😂',\n",
       " 'joy': '😂',\n",
       " 'laughing cat': '😹',\n",
       " 'happy': '😂',\n",
       " 'cat face with tears of joy': '😹',\n",
       " 'cry': '😂',\n",
       " 'cutlery': '🍴',\n",
       " 'fork and knife': '🍴',\n",
       " 'eat': '🐽',\n",
       " 'restaurant': '🏮',\n",
       " 'knife and fork': '🍴',\n",
       " 'fork': '🍴',\n",
       " 'knife': '🔪',\n",
       " 'peace symbol': '☮',\n",
       " 'peace sign': '✌️',\n",
       " 'flag for colombia': '🇨🇴',\n",
       " 'regional indicator symbol letters co': '🇨🇴',\n",
       " 'white sun with small cloud': '🌤',\n",
       " 'speaker': '🔈',\n",
       " 'volume': '🔈',\n",
       " 'black man with turban': '👳🏿',\n",
       " 'flag for slovakia': '🇸🇰',\n",
       " 'regional indicator symbol letters sk': '🇸🇰',\n",
       " 'sheep': '🐐',\n",
       " 'ewe': '🐑',\n",
       " 'wool': '🐑',\n",
       " 'follower': '🐑',\n",
       " 'flock': '🐑',\n",
       " 'lamb': '🐑',\n",
       " 'clown face': '🤡',\n",
       " 'scary clown': '🤡',\n",
       " 'flag for new zealand': '🇳🇿',\n",
       " 'regional indicator symbol letters nz': '🇳🇿',\n",
       " 'kiwi flag': '🇳🇿',\n",
       " 'frown': '😞',\n",
       " 'pouting cat face': '😾',\n",
       " 'miffed': '😾',\n",
       " 'glower': '😦',\n",
       " 'pout': '🙎',\n",
       " 'annoyed': '🙎',\n",
       " 'grumpy cat': '😾',\n",
       " 'avatar': '🚺',\n",
       " 'mens symbol': '🚹',\n",
       " 'men': '👬',\n",
       " 'male': '🐓',\n",
       " 'boy': '👦',\n",
       " 'mens toilet': '🚹',\n",
       " 'male restroom': '🚹',\n",
       " 'restroom': '🚺',\n",
       " 'no good': '🆖',\n",
       " 'ng': '🆖',\n",
       " 'blooper': '🆖',\n",
       " 'squared ng': '🆖',\n",
       " 'spider': '🕷',\n",
       " 'shallow pan of food': '🥘',\n",
       " 'cow': '🐞',\n",
       " 'cheeseburger': '🍔',\n",
       " 'meat': '🍖',\n",
       " 'burger': '🍔',\n",
       " 'beef': '🐄',\n",
       " 'hamburger': '🍔',\n",
       " 'deeper brown surfer': '🏄🏾',\n",
       " 'flag for marshall islands': '🇲🇭',\n",
       " 'marshallese flag': '🇲🇭',\n",
       " 'flag for laos': '🇱🇦',\n",
       " 'regional indicator symbol letters la': '🇱🇦',\n",
       " 'light brown mountain bicyclist': '🚵🏼',\n",
       " 'motor boat': '🛥',\n",
       " 'rural': '🌄',\n",
       " 'sun': '😎',\n",
       " 'color': '🍂',\n",
       " 'sunrise': '🌇',\n",
       " 'sunrise over mountains': '🌄',\n",
       " 'mountain': '🏂',\n",
       " 'morning': '🌇',\n",
       " 'regional indicator symbol letter p': '🇵',\n",
       " 'black information desk person': '💁🏿',\n",
       " 'motorhome': '🚙',\n",
       " 'automobile': '🚖',\n",
       " 'recreational vehicle': '🚙',\n",
       " 'wagon': '🚙',\n",
       " 'rv': '🚙',\n",
       " 'campervan': '🚙',\n",
       " 'suv': '🚙',\n",
       " 'door': '🚪',\n",
       " 'front door': '🚪',\n",
       " 'entry': '🚫',\n",
       " 'enter': '🚪',\n",
       " 'doorway': '🚪',\n",
       " 'entrance': '🚪',\n",
       " 'exit': '🚪',\n",
       " 'olive toned nail polish': '💅🏽',\n",
       " 'clock face eleven oclock': '🕚',\n",
       " 'fox face': '🦊',\n",
       " 'fox': '🐺',\n",
       " 'raised fist': '✊',\n",
       " 'fist pump': '✊',\n",
       " 'heavy exclamation mark symbol': '❗️',\n",
       " 'ring': '😇',\n",
       " 'engagement ring': '💍',\n",
       " 'diamond ring': '💍',\n",
       " 'diesel train': '🚆',\n",
       " 'regular train': '🚆',\n",
       " 'passenger train': '🚆',\n",
       " 'electric train': '🚆',\n",
       " 'flag for ireland': '🇮🇪',\n",
       " 'regional indicator symbol letters ie': '🇮🇪',\n",
       " 'irish flag': '🇮🇪',\n",
       " 'flag for mauritania': '🇲🇷',\n",
       " 'regional indicator symbol letters mr': '🇲🇷',\n",
       " 'monkey': '🙈',\n",
       " 'primate': '🐒',\n",
       " 'silly': '😜',\n",
       " 'cheeky monkey': '🙈',\n",
       " 'light brown horse racing': '🏇🏼',\n",
       " 'please': '🙏',\n",
       " 'thank you': '🙏',\n",
       " 'regret': '🙏',\n",
       " 'hands': '👭',\n",
       " 'sorrow': '🙏',\n",
       " 'person with folded hands': '🙏',\n",
       " 'praying hands': '🙏',\n",
       " 'sorry': '🙇',\n",
       " 'pray': '🎎',\n",
       " 'high five': '✋',\n",
       " 'flag for uganda': '🇺🇬',\n",
       " 'regional indicator symbol letters ug': '🇺🇬',\n",
       " 'flag in hole': '⛳️',\n",
       " 'golf': '🚩',\n",
       " 'golf flag': '⛳',\n",
       " 'file folder': '📁',\n",
       " 'flag for benin': '🇧🇯',\n",
       " 'regional indicator symbol letters bj': '🇧🇯',\n",
       " 'beninese flag': '🇧🇯',\n",
       " 'back with leftwards arrow above': '🔙',\n",
       " 'back': '🔙',\n",
       " 'white raised hand': '✋🏻',\n",
       " 'squared up with exclamation mark': '🆙',\n",
       " 'up': '👍',\n",
       " 'level up': '🆙',\n",
       " 'man dancing': '🕺',\n",
       " 'male dancer': '🕺',\n",
       " 'disco dancer': '🕺',\n",
       " 'flag for paraguay': '🇵🇾',\n",
       " 'regional indicator symbol letters py': '🇵🇾',\n",
       " 'shibuya': '\\ue50a',\n",
       " 'boutique 109': '\\ue50a',\n",
       " 'shibuya 109': '\\ue50a',\n",
       " 'shibuya 109 department store': '\\ue50a',\n",
       " 'plant': '🌿',\n",
       " 'sprout': '🌱',\n",
       " 'sprouting': '🌱',\n",
       " 'spring': '🍃',\n",
       " 'seedling': '🌱',\n",
       " 'grow': '🌱',\n",
       " 'start': '🌱',\n",
       " 'silent': '😶',\n",
       " 'surprised face': '😯',\n",
       " 'quiet': '😯',\n",
       " 'surprise': '😲',\n",
       " 'hush': '😯',\n",
       " 'hushed face': '😯',\n",
       " 'whisper': '😯',\n",
       " 'flag for tristan da cunha': '🇹🇦',\n",
       " 'ballot box with ballot': '🗳',\n",
       " 'flag for spain': '🇪🇸',\n",
       " 'regional indicator symbol letters es': '🇪🇸',\n",
       " 'spanish flag': '🇪🇸',\n",
       " 'reminder ribbon': '🎗',\n",
       " 'white bride with veil': '👰🏻',\n",
       " 'black swimmer': '🏊🏿',\n",
       " 'incoming envelope': '📨',\n",
       " 'fast envelope': '📨',\n",
       " 'envelope with lines': '📨',\n",
       " 'flag for montenegro': '🇲🇪',\n",
       " 'regional indicator symbol letters me': '🇲🇪',\n",
       " 'hinamatsuri': '🎎',\n",
       " 'dolls': '🎎',\n",
       " 'girls': '🎎',\n",
       " 'imperial': '🎎',\n",
       " 'japanese dolls': '🎎',\n",
       " 'japan': '💴',\n",
       " 'blessing': '🎎',\n",
       " 'imperial dolls': '🎎',\n",
       " 'family': '👪',\n",
       " 'royal': '👑',\n",
       " 'empress': '🎎',\n",
       " 'japanese': '🏯',\n",
       " 'day': '🎎',\n",
       " 'emperor': '🎎',\n",
       " 'music': '🎶',\n",
       " 'string quartet': '🎻',\n",
       " 'violin': '🎻',\n",
       " 'instrument': '🎺',\n",
       " 'fiddle': '🎻',\n",
       " 'house with garden': '🏡',\n",
       " 'house and tree': '🏡',\n",
       " 'bunny rabbit': '🐇',\n",
       " 'bugs bunny': '🐰',\n",
       " 'easter bunny': '🐰',\n",
       " 'rabbit face': '🐰',\n",
       " 'no speaking': '🙊',\n",
       " 'verbal': '🙊',\n",
       " 'talk': '💬',\n",
       " 'verbalize': '🙊',\n",
       " 'monkey covering mouth': '🙊',\n",
       " 'oral': '🙊',\n",
       " 'words': '🙊',\n",
       " 'say': '🙊',\n",
       " 'iwazaru': '🙊',\n",
       " 'mouth': '😮',\n",
       " 'red pin': '📍',\n",
       " 'round pushpin': '📍',\n",
       " 'map pin': '📍',\n",
       " 'pin': '🎳',\n",
       " 'dropped pin': '📍',\n",
       " 'waxing': '🌙',\n",
       " 'waxing crescent moon symbol': '🌒',\n",
       " 'passenger ship': '🛳',\n",
       " 'racing car': '🏎',\n",
       " 'f1': '🏎',\n",
       " 'formula one': '🏎',\n",
       " 'light bulb': '💡',\n",
       " 'idea': '🎆',\n",
       " 'bulb': '🌷',\n",
       " 'electric light bulb': '💡',\n",
       " 'sailboat': '⛵️',\n",
       " 'omkara': '🕉',\n",
       " 'pranava': '🕉',\n",
       " 'aumkara': '🕉',\n",
       " 'om symbol': '🕉',\n",
       " 'white heavy check mark': '✅',\n",
       " 'tick': '✅',\n",
       " 'check': '🛃',\n",
       " 'white heavy tick mark': '✅',\n",
       " 'flag for maldives': '🇲🇻',\n",
       " 'regional indicator symbol letters mv': '🇲🇻',\n",
       " 'tortoise': '🐢',\n",
       " 'slow': '🚸',\n",
       " 'shell': '🐚',\n",
       " 'turtle': '🐢',\n",
       " 'chelonian': '🐢',\n",
       " 'steady': '🐢',\n",
       " 'reptile': '🐢',\n",
       " 'snap': '🐢',\n",
       " 'flag for romania': '🇷🇴',\n",
       " 'regional indicator symbol letters ro': '🇷🇴',\n",
       " 'flag for estonia': '🇪🇪',\n",
       " 'regional indicator symbol letters ee': '🇪🇪',\n",
       " 'estonian flag': '🇪🇪',\n",
       " 'mustache': '👺',\n",
       " 'mask': '😷',\n",
       " 'goblin': '👺',\n",
       " 'nose': '👃',\n",
       " 'tengu': '👺',\n",
       " 'frustration': '👺',\n",
       " 'japanese goblin': '👺',\n",
       " 'demon': '👹',\n",
       " 'supernatural': '👺',\n",
       " 'red mask': '👺',\n",
       " 'theater': '👹',\n",
       " 'anger': '💢',\n",
       " 'long nose face': '👺',\n",
       " 'avian': '👺',\n",
       " 'white surfer': '🏄🏻',\n",
       " 'black spade suit': '♠️',\n",
       " 'spades': '♠️',\n",
       " 'fair': '🎢',\n",
       " 'farris': '🎡',\n",
       " 'amusement': '🎢',\n",
       " 'wheel': '🎡',\n",
       " 'big wheel': '🎡',\n",
       " 'entertainment': '🎢',\n",
       " 'fairground': '🎠',\n",
       " 'park': '🎢',\n",
       " 'ferris wheel': '🎡',\n",
       " 'ride': '🎢',\n",
       " 'observation wheel': '🎡',\n",
       " 'deeper brown dancer': '💃🏾',\n",
       " 'flag for aruba': '🇦🇼',\n",
       " 'regional indicator symbol letters aw': '🇦🇼',\n",
       " '合': '🈴',\n",
       " 'agreement': '🈴',\n",
       " 'daze': '😕',\n",
       " 'puzzled': '😕',\n",
       " 'confused face': '😕',\n",
       " 'confuse': '😕',\n",
       " 'nonplussed': '😕',\n",
       " 'confused': '😕',\n",
       " 'stairs': '📶',\n",
       " 'reception bars': '📶',\n",
       " 'signal strength': '📶',\n",
       " 'antenna with bars': '📶',\n",
       " 'fruit': '🍇',\n",
       " 'cherries': '🍒',\n",
       " 'wild cherry': '🍒',\n",
       " 'pit': '🍑',\n",
       " 'hen': '🐔',\n",
       " 'livestock': '🐐',\n",
       " 'turkey': '🦃',\n",
       " 'flag for sweden': '🇸🇪',\n",
       " 'regional indicator symbol letters se': '🇸🇪',\n",
       " '月': '🈷️',\n",
       " 'radical 74': '🈷️',\n",
       " 'open mailbox with lowered flag': '📭',\n",
       " 'white boy': '👦🏻',\n",
       " 'white haircut': '💇🏻',\n",
       " 'checkered': '🏁',\n",
       " 'chequred': '🏁',\n",
       " 'finish': '🏁',\n",
       " 'complete': '🏁',\n",
       " 'racing flag': '🏁',\n",
       " 'race': '🏇',\n",
       " 'flag': '🚩',\n",
       " 'end': '🔚',\n",
       " 'grid girl': '🏁',\n",
       " 'checkered flag': '🏁',\n",
       " 'chequered flag': '🏁',\n",
       " 'sunset': '🌆',\n",
       " 'lips sealed': '🤐',\n",
       " 'zip it': '🤐',\n",
       " 'sealed lips': '🤐',\n",
       " 'six pointed star with middle dot': '🔯',\n",
       " 'unamused': '😒',\n",
       " 'unamused face': '😒',\n",
       " 'lame': '😒',\n",
       " 'depressed': '😞',\n",
       " 'not amused': '😒',\n",
       " 'unhappy': '😒',\n",
       " 'unimpressed': '💁',\n",
       " 'disapprove': '😬',\n",
       " 'dissatisfied': '😒',\n",
       " 'white woman': '👩🏻',\n",
       " 'flag for cape verde': '🇨🇻',\n",
       " 'regional indicator symbol letters cv': '🇨🇻',\n",
       " 'classical building': '🏛',\n",
       " 'honey': '🐝',\n",
       " 'pot': '👌',\n",
       " 'bees': '🍯',\n",
       " 'honey pot': '🍯',\n",
       " 'pooh': '🍯',\n",
       " 'pregnant woman': '🤰',\n",
       " 'pregnant lady': '🤰',\n",
       " 'pregnancy': '🤰',\n",
       " 'flag for albania': '🇦🇱',\n",
       " 'regional indicator symbol letters al': '🇦🇱',\n",
       " 'gamble': '🎰',\n",
       " 'play': '🎲',\n",
       " 'die': '🎲',\n",
       " 'craps': '🎲',\n",
       " 'game die': '🎲',\n",
       " 'dice': '🎲',\n",
       " 'kissing cat face with closed eyes': '😽',\n",
       " 'kissing cat': '😽',\n",
       " 'flag for burkina faso': '🇧🇫',\n",
       " 'regional indicator symbol letters bf': '🇧🇫',\n",
       " 'flag for sierra leone': '🇸🇱',\n",
       " 'regional indicator symbol letters sl': '🇸🇱',\n",
       " 'serve': '🍦',\n",
       " 'dessert': '🎂',\n",
       " 'bowl of ice cream': '🍨',\n",
       " 'soft': '🍦',\n",
       " 'icecream': '🍦',\n",
       " 'waffle': '🍨',\n",
       " 'dairy': '🍦',\n",
       " 'cone': '🍦',\n",
       " 'cold': '❄️',\n",
       " 'cream': '🍦',\n",
       " 'ice': '❄️',\n",
       " 'ice cream': '🍨',\n",
       " 'question': '💁',\n",
       " 'sassy': '💁',\n",
       " 'snarky': '💁',\n",
       " 'information desk person': '💁',\n",
       " 'information': '💾',\n",
       " 'attitude': '💁',\n",
       " 'concierge': '💁',\n",
       " 'sassy girl': '💁',\n",
       " 'answer': '🙋',\n",
       " 'hair flick': '💁',\n",
       " 'bellhop': '💁',\n",
       " 'eagle': '🦅',\n",
       " 'bald eagle': '🦅',\n",
       " 'black heart': '🖤',\n",
       " 'dark heart': '🖤',\n",
       " 'pencil': '✏️',\n",
       " 'triangular ruler': '📐',\n",
       " 'triangle ruler': '📐',\n",
       " 'olive toned person with pouting face': '🙎🏽',\n",
       " 'black sun with rays': '☀️',\n",
       " 'sunshine': '☀️',\n",
       " 'maiden': '♍️',\n",
       " 'virgo': '♍️',\n",
       " 'golden delicious apple': '🍏',\n",
       " 'green apple': '🍏',\n",
       " 'granny': '🍏',\n",
       " 'pie': '🍕',\n",
       " 'green': '💚',\n",
       " 'grevenstein apple': '🍏',\n",
       " 'apple': '🍎',\n",
       " 'smith': '🍏',\n",
       " 'core': '🍎',\n",
       " 'granny smith apple': '🍏',\n",
       " 'oncoming police car': '🚔',\n",
       " 'butterflies in stomach': '💓',\n",
       " 'beating heart': '💓',\n",
       " 'heart alarm': '💓',\n",
       " 'heartbeat': '💓',\n",
       " 'white person with blond hair': '👱🏻',\n",
       " 'waving black flag': '🏴',\n",
       " 'olive toned happy person raising one hand': '🙋🏽',\n",
       " 'shoot': '🌠',\n",
       " 'shooting': '🌠',\n",
       " 'when you wish upon a star': '🌠',\n",
       " 'star': '🎋',\n",
       " 'comet': '☄',\n",
       " 'shooting star': '🌠',\n",
       " 'meteoroid': '🌠',\n",
       " 'spock': '🖖',\n",
       " 'raised hand with part between middle and ring fingers': '🖖',\n",
       " 'star trek': '🖖',\n",
       " 'vulcan salute': '🖖',\n",
       " 'light brown nail polish': '💅🏼',\n",
       " 'flag for zimbabwe': '🇿🇼',\n",
       " 'regional indicator symbol letters zw': '🇿🇼',\n",
       " 'flag for norfolk island': '🇳🇫',\n",
       " 'norfolk island flag': '🇳🇫',\n",
       " 'love heart': '❤️',\n",
       " 'red heart': '❤️',\n",
       " 'death': '💀',\n",
       " 'intense': '❤️',\n",
       " 'heavy black heart': '❤️',\n",
       " 'black': '🐼',\n",
       " 'romance': '🌹',\n",
       " 'evil': '❤️',\n",
       " 'desire': '❤️',\n",
       " 'squared cool': '🆒',\n",
       " 'cool square': '🆒',\n",
       " 'potato': '🍟',\n",
       " 'baked potato': '🥔',\n",
       " 'regular potato': '🥔',\n",
       " 'hole': '🕳',\n",
       " 'deeper brown man with gua pi mao': '👲🏾',\n",
       " 'scrunched eyes': '😣',\n",
       " 'persevering face': '😣',\n",
       " 'helpless face': '😣',\n",
       " 'persevere': '😣',\n",
       " 'endure': '😣',\n",
       " 'shinkansen': '🚅',\n",
       " 'bullet': '🚄',\n",
       " 'bullet train': '🚅',\n",
       " 'muslim': '👳',\n",
       " 'man with turban': '👳',\n",
       " 'india': '👳',\n",
       " 'turban': '👳',\n",
       " 'wisdom': '👳',\n",
       " 'mummy': '👳',\n",
       " 'headwear': '👳',\n",
       " 'peace': '✌️',\n",
       " 'sikh': '👳',\n",
       " 'indian': '👳',\n",
       " 'pagri': '👳',\n",
       " 'headdress': '👳',\n",
       " 'arab': '👳',\n",
       " 'pot of food': '🍲',\n",
       " 'hearty': '🍲',\n",
       " 'stew': '🍢',\n",
       " 'soup': '🍜',\n",
       " 'thick': '🍲',\n",
       " 'bowl of food': '🍲',\n",
       " 'hot': '🌋',\n",
       " 'snow capped mountain': '🏔',\n",
       " 'smiling face with open mouth and smiling eyes': '😄',\n",
       " 'happy face': '😃',\n",
       " 'smile': '😺',\n",
       " 'smiley face': '😃',\n",
       " 'smiling': '😎',\n",
       " 'smiley': '😺',\n",
       " 'grinning face': '😃',\n",
       " 'black bicyclist': '🚴🏿',\n",
       " 'deeper brown ok hand sign': '👌🏾',\n",
       " 'exhausted': '😫',\n",
       " 'tired': '😫',\n",
       " 'sleepy face': '😪',\n",
       " 'sleepy': '😫',\n",
       " 'snot bubble': '😪',\n",
       " 'flag for moldova': '🇲🇩',\n",
       " 'regional indicator symbol letters md': '🇲🇩',\n",
       " 'white flexed biceps': '💪🏻',\n",
       " 'nut and bolt': '🔩',\n",
       " 'screw': '🔩',\n",
       " 'bolt': '🔩',\n",
       " 'eye': '👓',\n",
       " 'single eye': '👁',\n",
       " 'vertical traffic light': '🚦',\n",
       " 'vertical': '🚦',\n",
       " 'olive toned white up pointing backhand index': '👆🏽',\n",
       " 'white information desk person': '💁🏻',\n",
       " 'bouquet': '💐',\n",
       " 'bouquet of flowers': '💐',\n",
       " 'black person raising both hands in celebration': '🙌🏿',\n",
       " 'flag for ghana': '🇬🇭',\n",
       " 'regional indicator symbol letters gh': '🇬🇭',\n",
       " 'ghanaian flag': '🇬🇭',\n",
       " 'tram': '🚡',\n",
       " 'transportation': '🚎',\n",
       " 'flag for qatar': '🇶🇦',\n",
       " 'regional indicator symbol letters qa': '🇶🇦',\n",
       " 'dress': '💃',\n",
       " 'engagement': '👰',\n",
       " 'veil': '👰',\n",
       " 'marriage': '💒',\n",
       " 'planning': '👰',\n",
       " 'gown': '👗',\n",
       " 'bride': '👰',\n",
       " 'wedding': '💒',\n",
       " 'bride with veil': '👰',\n",
       " 'white': '🍚',\n",
       " 'search icon': '🔎',\n",
       " 'magnifying glass': '🔎',\n",
       " 'magnifier': '🔎',\n",
       " 'investigator': '🔎',\n",
       " 'details': '🔎',\n",
       " 'detail': '🔎',\n",
       " 'deeper brown man with turban': '👳🏾',\n",
       " 'filly': '🐎',\n",
       " 'stallion': '🐎',\n",
       " 'horse racing': '🏇',\n",
       " 'calvary': '🐎',\n",
       " 'mare': '🐎',\n",
       " 'galloping horse': '🐎',\n",
       " 'draft': '🐎',\n",
       " 'gallop': '🐎',\n",
       " 'cowgirl': '🐎',\n",
       " 'mounted': '🐎',\n",
       " 'horse': '🏇',\n",
       " 'powerful': '🐎',\n",
       " 'thoroughbred': '🐎',\n",
       " 'yearling': '🐎',\n",
       " 'gelding': '🐎',\n",
       " 'trot': '🐎',\n",
       " 'colt': '🐎',\n",
       " 'pony': '🐎',\n",
       " 'cowboy': '🤠',\n",
       " 'year of the horse': '🐎',\n",
       " 'light brown thumbs up sign': '👍🏼',\n",
       " ...}"
      ]
     },
     "execution_count": 63,
     "metadata": {},
     "output_type": "execute_result"
    }
   ],
   "source": [
    "f = (data_dir / 'emoji_joined.tsv')\n",
    "dict(np.genfromtxt(str(f), delimiter='\\t', dtype=str, skip_header=1))\n",
    "# pd.read_csv(str(f))"
   ]
  },
  {
   "cell_type": "markdown",
   "metadata": {},
   "source": [
    "## Word2vec"
   ]
  },
  {
   "cell_type": "code",
   "execution_count": 1,
   "metadata": {
    "ExecuteTime": {
     "end_time": "2021-07-25T10:05:42.301530Z",
     "start_time": "2021-07-25T10:05:19.530416Z"
    }
   },
   "outputs": [],
   "source": [
    "from idiom import WordVec, WordVecSearch, WordVecStore\n",
    "\n",
    "wv = WordVec()"
   ]
  },
  {
   "cell_type": "code",
   "execution_count": 2,
   "metadata": {
    "ExecuteTime": {
     "end_time": "2021-07-25T10:05:42.481993Z",
     "start_time": "2021-07-25T10:05:42.303430Z"
    }
   },
   "outputs": [
    {
     "name": "stdout",
     "output_type": "stream",
     "text": [
      "smile, happy     : 0.4576\n",
      "happy, smile     : 0.4576\n",
      "happy, happiness : 0.4244\n",
      "happy, sad       : 0.3100\n",
      "happy, table     : 0.6791\n",
      "happy, persom    : 0.4754\n"
     ]
    }
   ],
   "source": [
    "word_pairs = [\n",
    "    ('smile', 'happy'),\n",
    "    ('happy', 'smile'),\n",
    "    ('happy', 'happiness'),\n",
    "    ('happy', 'sad'),\n",
    "    ('happy', 'table'),\n",
    "    ('happy', 'persom'),\n",
    "]\n",
    "for word_pair in word_pairs:\n",
    "    print(\"{}, {:<10}: {:0.04f}\".format(*word_pair, wv.dist(*word_pair)))"
   ]
  },
  {
   "cell_type": "code",
   "execution_count": null,
   "metadata": {},
   "outputs": [],
   "source": []
  },
  {
   "cell_type": "code",
   "execution_count": null,
   "metadata": {},
   "outputs": [],
   "source": []
  },
  {
   "cell_type": "code",
   "execution_count": null,
   "metadata": {},
   "outputs": [],
   "source": []
  },
  {
   "cell_type": "code",
   "execution_count": null,
   "metadata": {},
   "outputs": [],
   "source": []
  },
  {
   "cell_type": "code",
   "execution_count": null,
   "metadata": {},
   "outputs": [],
   "source": []
  },
  {
   "cell_type": "code",
   "execution_count": null,
   "metadata": {},
   "outputs": [],
   "source": []
  },
  {
   "cell_type": "code",
   "execution_count": null,
   "metadata": {},
   "outputs": [],
   "source": []
  }
 ],
 "metadata": {
  "kernelspec": {
   "display_name": "Python 3",
   "language": "python",
   "name": "python3"
  },
  "language_info": {
   "codemirror_mode": {
    "name": "ipython",
    "version": 3
   },
   "file_extension": ".py",
   "mimetype": "text/x-python",
   "name": "python",
   "nbconvert_exporter": "python",
   "pygments_lexer": "ipython3",
   "version": "3.8.6"
  },
  "latex_envs": {
   "LaTeX_envs_menu_present": true,
   "autoclose": false,
   "autocomplete": true,
   "bibliofile": "biblio.bib",
   "cite_by": "apalike",
   "current_citInitial": 1,
   "eqLabelWithNumbers": true,
   "eqNumInitial": 1,
   "hotkeys": {
    "equation": "Ctrl-E",
    "itemize": "Ctrl-I"
   },
   "labels_anchors": false,
   "latex_user_defs": false,
   "report_style_numbering": false,
   "user_envs_cfg": false
  },
  "toc": {
   "base_numbering": 1,
   "nav_menu": {},
   "number_sections": true,
   "sideBar": true,
   "skip_h1_title": false,
   "title_cell": "Table of Contents",
   "title_sidebar": "Contents",
   "toc_cell": true,
   "toc_position": {
    "height": "calc(100% - 180px)",
    "left": "10px",
    "top": "150px",
    "width": "255.868px"
   },
   "toc_section_display": true,
   "toc_window_display": true
  }
 },
 "nbformat": 4,
 "nbformat_minor": 4
}
